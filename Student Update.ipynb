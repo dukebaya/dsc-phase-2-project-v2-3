{
 "cells": [
  {
   "cell_type": "markdown",
   "id": "P1k5rylm31O2",
   "metadata": {
    "id": "P1k5rylm31O2"
   },
   "source": [
    "# Optimizing Real Estate Pricing Strategy for Maximized Profits\n"
   ]
  },
  {
   "cell_type": "markdown",
   "id": "vhTZ_REo6MvY",
   "metadata": {
    "id": "vhTZ_REo6MvY"
   },
   "source": [
    "# Overview\n",
    "\n",
    "Premiere Property Group, a leading real estate agency in King County, has faced a decline in profits over the past three years. In response, the agency has engaged analysts to provide recommendations on a strategic pricing approach that will optimize profits. This project delves into the extensive housing data available for King County, examining critical factors influencing house prices. The primary focus is on key variables including the age of the house, location-based condition/rating, views, waterfront accessibility, and the impact of seasonal sales. The overarching goal is to develop a robust pricing strategy that effectively maximizes profits for Premiere Property Group in the dynamic King County real estate market.\n",
    "\n",
    "## Research Questions\n",
    "1. Does the age of a house (year built) have an impact on its selling price? Are there any patterns or trends that can guide pricing decisions?\n",
    "2. Is there a correlation between the condition/rating of a house, especially concerning its location, and the resulting sales price?\n",
    "3. Is there a seasonal effect on the sales price of homes? For example, do homes sold during the winter season command higher prices compared to other months, and how can this knowledge be leveraged for strategic pricing?\n",
    "4. What extent do the views and waterfront accessibility influence the property pricing? Does these feature impact the overall value of the property?\n",
    "\n",
    "## Objectives\n",
    "\n",
    "1. Determine and evaluate the relationship between the age of a house and its sales price to inform pricing decisions for different property types.\n",
    "2. Analyze the impact of location-based condition/rating on house prices, identifying optimal conditions for maximizing property values.\n",
    "3. Find out the seasonal Changes in property prices and come up with strategies to optimize pricing based on the time of sale.\n",
    "4. Investigate the influence of views and waterfront accessibility on property prices, providing insights into premium features.\n",
    "\n",
    "The findings from this project will enable Premiere Property Group to make data-driven decisions in setting competitive and profitable prices for property and ultimately enhancing their ability to maximize profits\n"
   ]
  },
  {
   "cell_type": "markdown",
   "id": "be295aff",
   "metadata": {
    "id": "be295aff"
   },
   "source": [
    "## Data\n",
    "\n",
    "Utilizing the King County Housing Data Set, which encompasses details such as house size, location, condition, and various features, this project endeavors to construct an advanced multiple regression model. The primary objective is to develop a predictive model that can accurately estimate a house's price by incorporating the key factors. The emphasis is on optimizing the model's precision to enable effective predictions in the dynamic real estate landscape of King County."
   ]
  },
  {
   "cell_type": "markdown",
   "id": "32334e1f",
   "metadata": {
    "id": "32334e1f"
   },
   "source": [
    "### Column Names and descriptions for King County Data Set\n",
    "* **id** - unique identified for a house\n",
    "* **date** - Date house was sold\n",
    "* **price** - Price is prediction target\n",
    "* **bedrooms** - Number of Bedrooms/House\n",
    "* **bathrooms** - Number of bathrooms/bedrooms\n",
    "* **sqft_living** - square footage of the home\n",
    "* **sqft_lot** - square footage of the lot\n",
    "* **floors** - Total floors (levels) in house\n",
    "* **waterfront** - House which has a view to a waterfront\n",
    "* **view** - Has been viewed\n",
    "* **condition** - How good the condition is ( Overall )\n",
    "* **grade** - overall grade given to the housing unit, based on King County grading system\n",
    "* **sqft_above** - square footage of house apart from basement\n",
    "* **sqft_basement** - square footage of the basement\n",
    "* **yr_built** - Built Year\n",
    "* **yr_renovated** - Year when house was renovated\n",
    "* **zipcode** - zip\n",
    "* **lat** - Latitude coordinate\n",
    "* **long** - Longitude coordinate\n",
    "* **sqft_living15** - The square footage of interior housing living space for the nearest 15 neighbors\n",
    "* **sqft_lot15** - The square footage of the land lots of the nearest 15 neighbors"
   ]
  },
  {
   "cell_type": "markdown",
   "id": "c4052393",
   "metadata": {
    "id": "c4052393"
   },
   "source": [
    "## Previewing the Data"
   ]
  },
  {
   "cell_type": "code",
   "execution_count": null,
   "id": "f1f26cae",
   "metadata": {
    "id": "f1f26cae"
   },
   "outputs": [],
   "source": [
    "#load necessary libraries\n",
    "import numpy as np\n",
    "import pandas as pd\n",
    "import seaborn as sns\n",
    "import markdown\n",
    "import matplotlib.pyplot as plt\n",
    "%matplotlib inline\n",
    "import scipy.stats as stats\n",
    "import statsmodels.formula.api as smf\n",
    "import statsmodels.stats.api as sms\n",
    "import statsmodels.api as sm\n",
    "from statsmodels.formula.api import ols\n",
    "from sklearn import datasets, linear_model\n",
    "from sklearn import preprocessing\n",
    "from sklearn.preprocessing import LabelEncoder\n",
    "from sklearn import metrics\n",
    "from sklearn.metrics import r2_score\n",
    "from sklearn.metrics import mean_squared_error, make_scorer\n",
    "from sklearn.model_selection import cross_val_score\n",
    "from sklearn.feature_selection import RFE\n",
    "from sklearn.linear_model import LinearRegression\n",
    "from sklearn.model_selection import train_test_split"
   ]
  },
  {
   "cell_type": "code",
   "execution_count": null,
   "id": "e5ad6420",
   "metadata": {
    "colab": {
     "base_uri": "https://localhost:8080/",
     "height": 325
    },
    "id": "e5ad6420",
    "outputId": "86b260fd-cb92-4577-ab8b-908881154a75"
   },
   "outputs": [
    {
     "data": {
      "text/html": [
       "\n",
       "  <div id=\"df-980e1ba4-9fe7-4987-a662-9b5f41d458ff\" class=\"colab-df-container\">\n",
       "    <div>\n",
       "<style scoped>\n",
       "    .dataframe tbody tr th:only-of-type {\n",
       "        vertical-align: middle;\n",
       "    }\n",
       "\n",
       "    .dataframe tbody tr th {\n",
       "        vertical-align: top;\n",
       "    }\n",
       "\n",
       "    .dataframe thead th {\n",
       "        text-align: right;\n",
       "    }\n",
       "</style>\n",
       "<table border=\"1\" class=\"dataframe\">\n",
       "  <thead>\n",
       "    <tr style=\"text-align: right;\">\n",
       "      <th></th>\n",
       "      <th>id</th>\n",
       "      <th>date</th>\n",
       "      <th>price</th>\n",
       "      <th>bedrooms</th>\n",
       "      <th>bathrooms</th>\n",
       "      <th>sqft_living</th>\n",
       "      <th>sqft_lot</th>\n",
       "      <th>floors</th>\n",
       "      <th>waterfront</th>\n",
       "      <th>view</th>\n",
       "      <th>...</th>\n",
       "      <th>grade</th>\n",
       "      <th>sqft_above</th>\n",
       "      <th>sqft_basement</th>\n",
       "      <th>yr_built</th>\n",
       "      <th>yr_renovated</th>\n",
       "      <th>zipcode</th>\n",
       "      <th>lat</th>\n",
       "      <th>long</th>\n",
       "      <th>sqft_living15</th>\n",
       "      <th>sqft_lot15</th>\n",
       "    </tr>\n",
       "  </thead>\n",
       "  <tbody>\n",
       "    <tr>\n",
       "      <th>0</th>\n",
       "      <td>7129300520</td>\n",
       "      <td>10/13/2014</td>\n",
       "      <td>221900.0</td>\n",
       "      <td>3</td>\n",
       "      <td>1.00</td>\n",
       "      <td>1180</td>\n",
       "      <td>5650</td>\n",
       "      <td>1.0</td>\n",
       "      <td>NaN</td>\n",
       "      <td>NONE</td>\n",
       "      <td>...</td>\n",
       "      <td>7 Average</td>\n",
       "      <td>1180</td>\n",
       "      <td>0.0</td>\n",
       "      <td>1955</td>\n",
       "      <td>0.0</td>\n",
       "      <td>98178</td>\n",
       "      <td>47.5112</td>\n",
       "      <td>-122.257</td>\n",
       "      <td>1340</td>\n",
       "      <td>5650</td>\n",
       "    </tr>\n",
       "    <tr>\n",
       "      <th>1</th>\n",
       "      <td>6414100192</td>\n",
       "      <td>12/9/2014</td>\n",
       "      <td>538000.0</td>\n",
       "      <td>3</td>\n",
       "      <td>2.25</td>\n",
       "      <td>2570</td>\n",
       "      <td>7242</td>\n",
       "      <td>2.0</td>\n",
       "      <td>NO</td>\n",
       "      <td>NONE</td>\n",
       "      <td>...</td>\n",
       "      <td>7 Average</td>\n",
       "      <td>2170</td>\n",
       "      <td>400.0</td>\n",
       "      <td>1951</td>\n",
       "      <td>1991.0</td>\n",
       "      <td>98125</td>\n",
       "      <td>47.7210</td>\n",
       "      <td>-122.319</td>\n",
       "      <td>1690</td>\n",
       "      <td>7639</td>\n",
       "    </tr>\n",
       "    <tr>\n",
       "      <th>2</th>\n",
       "      <td>5631500400</td>\n",
       "      <td>2/25/2015</td>\n",
       "      <td>180000.0</td>\n",
       "      <td>2</td>\n",
       "      <td>1.00</td>\n",
       "      <td>770</td>\n",
       "      <td>10000</td>\n",
       "      <td>1.0</td>\n",
       "      <td>NO</td>\n",
       "      <td>NONE</td>\n",
       "      <td>...</td>\n",
       "      <td>6 Low Average</td>\n",
       "      <td>770</td>\n",
       "      <td>0.0</td>\n",
       "      <td>1933</td>\n",
       "      <td>NaN</td>\n",
       "      <td>98028</td>\n",
       "      <td>47.7379</td>\n",
       "      <td>-122.233</td>\n",
       "      <td>2720</td>\n",
       "      <td>8062</td>\n",
       "    </tr>\n",
       "    <tr>\n",
       "      <th>3</th>\n",
       "      <td>2487200875</td>\n",
       "      <td>12/9/2014</td>\n",
       "      <td>604000.0</td>\n",
       "      <td>4</td>\n",
       "      <td>3.00</td>\n",
       "      <td>1960</td>\n",
       "      <td>5000</td>\n",
       "      <td>1.0</td>\n",
       "      <td>NO</td>\n",
       "      <td>NONE</td>\n",
       "      <td>...</td>\n",
       "      <td>7 Average</td>\n",
       "      <td>1050</td>\n",
       "      <td>910.0</td>\n",
       "      <td>1965</td>\n",
       "      <td>0.0</td>\n",
       "      <td>98136</td>\n",
       "      <td>47.5208</td>\n",
       "      <td>-122.393</td>\n",
       "      <td>1360</td>\n",
       "      <td>5000</td>\n",
       "    </tr>\n",
       "    <tr>\n",
       "      <th>4</th>\n",
       "      <td>1954400510</td>\n",
       "      <td>2/18/2015</td>\n",
       "      <td>510000.0</td>\n",
       "      <td>3</td>\n",
       "      <td>2.00</td>\n",
       "      <td>1680</td>\n",
       "      <td>8080</td>\n",
       "      <td>1.0</td>\n",
       "      <td>NO</td>\n",
       "      <td>NONE</td>\n",
       "      <td>...</td>\n",
       "      <td>8 Good</td>\n",
       "      <td>1680</td>\n",
       "      <td>0.0</td>\n",
       "      <td>1987</td>\n",
       "      <td>0.0</td>\n",
       "      <td>98074</td>\n",
       "      <td>47.6168</td>\n",
       "      <td>-122.045</td>\n",
       "      <td>1800</td>\n",
       "      <td>7503</td>\n",
       "    </tr>\n",
       "  </tbody>\n",
       "</table>\n",
       "<p>5 rows × 21 columns</p>\n",
       "</div>\n",
       "    <div class=\"colab-df-buttons\">\n",
       "\n",
       "  <div class=\"colab-df-container\">\n",
       "    <button class=\"colab-df-convert\" onclick=\"convertToInteractive('df-980e1ba4-9fe7-4987-a662-9b5f41d458ff')\"\n",
       "            title=\"Convert this dataframe to an interactive table.\"\n",
       "            style=\"display:none;\">\n",
       "\n",
       "  <svg xmlns=\"http://www.w3.org/2000/svg\" height=\"24px\" viewBox=\"0 -960 960 960\">\n",
       "    <path d=\"M120-120v-720h720v720H120Zm60-500h600v-160H180v160Zm220 220h160v-160H400v160Zm0 220h160v-160H400v160ZM180-400h160v-160H180v160Zm440 0h160v-160H620v160ZM180-180h160v-160H180v160Zm440 0h160v-160H620v160Z\"/>\n",
       "  </svg>\n",
       "    </button>\n",
       "\n",
       "  <style>\n",
       "    .colab-df-container {\n",
       "      display:flex;\n",
       "      gap: 12px;\n",
       "    }\n",
       "\n",
       "    .colab-df-convert {\n",
       "      background-color: #E8F0FE;\n",
       "      border: none;\n",
       "      border-radius: 50%;\n",
       "      cursor: pointer;\n",
       "      display: none;\n",
       "      fill: #1967D2;\n",
       "      height: 32px;\n",
       "      padding: 0 0 0 0;\n",
       "      width: 32px;\n",
       "    }\n",
       "\n",
       "    .colab-df-convert:hover {\n",
       "      background-color: #E2EBFA;\n",
       "      box-shadow: 0px 1px 2px rgba(60, 64, 67, 0.3), 0px 1px 3px 1px rgba(60, 64, 67, 0.15);\n",
       "      fill: #174EA6;\n",
       "    }\n",
       "\n",
       "    .colab-df-buttons div {\n",
       "      margin-bottom: 4px;\n",
       "    }\n",
       "\n",
       "    [theme=dark] .colab-df-convert {\n",
       "      background-color: #3B4455;\n",
       "      fill: #D2E3FC;\n",
       "    }\n",
       "\n",
       "    [theme=dark] .colab-df-convert:hover {\n",
       "      background-color: #434B5C;\n",
       "      box-shadow: 0px 1px 3px 1px rgba(0, 0, 0, 0.15);\n",
       "      filter: drop-shadow(0px 1px 2px rgba(0, 0, 0, 0.3));\n",
       "      fill: #FFFFFF;\n",
       "    }\n",
       "  </style>\n",
       "\n",
       "    <script>\n",
       "      const buttonEl =\n",
       "        document.querySelector('#df-980e1ba4-9fe7-4987-a662-9b5f41d458ff button.colab-df-convert');\n",
       "      buttonEl.style.display =\n",
       "        google.colab.kernel.accessAllowed ? 'block' : 'none';\n",
       "\n",
       "      async function convertToInteractive(key) {\n",
       "        const element = document.querySelector('#df-980e1ba4-9fe7-4987-a662-9b5f41d458ff');\n",
       "        const dataTable =\n",
       "          await google.colab.kernel.invokeFunction('convertToInteractive',\n",
       "                                                    [key], {});\n",
       "        if (!dataTable) return;\n",
       "\n",
       "        const docLinkHtml = 'Like what you see? Visit the ' +\n",
       "          '<a target=\"_blank\" href=https://colab.research.google.com/notebooks/data_table.ipynb>data table notebook</a>'\n",
       "          + ' to learn more about interactive tables.';\n",
       "        element.innerHTML = '';\n",
       "        dataTable['output_type'] = 'display_data';\n",
       "        await google.colab.output.renderOutput(dataTable, element);\n",
       "        const docLink = document.createElement('div');\n",
       "        docLink.innerHTML = docLinkHtml;\n",
       "        element.appendChild(docLink);\n",
       "      }\n",
       "    </script>\n",
       "  </div>\n",
       "\n",
       "\n",
       "<div id=\"df-935c0db8-9b9d-4a0c-9fd9-67ba2ec7c0ad\">\n",
       "  <button class=\"colab-df-quickchart\" onclick=\"quickchart('df-935c0db8-9b9d-4a0c-9fd9-67ba2ec7c0ad')\"\n",
       "            title=\"Suggest charts\"\n",
       "            style=\"display:none;\">\n",
       "\n",
       "<svg xmlns=\"http://www.w3.org/2000/svg\" height=\"24px\"viewBox=\"0 0 24 24\"\n",
       "     width=\"24px\">\n",
       "    <g>\n",
       "        <path d=\"M19 3H5c-1.1 0-2 .9-2 2v14c0 1.1.9 2 2 2h14c1.1 0 2-.9 2-2V5c0-1.1-.9-2-2-2zM9 17H7v-7h2v7zm4 0h-2V7h2v10zm4 0h-2v-4h2v4z\"/>\n",
       "    </g>\n",
       "</svg>\n",
       "  </button>\n",
       "\n",
       "<style>\n",
       "  .colab-df-quickchart {\n",
       "      --bg-color: #E8F0FE;\n",
       "      --fill-color: #1967D2;\n",
       "      --hover-bg-color: #E2EBFA;\n",
       "      --hover-fill-color: #174EA6;\n",
       "      --disabled-fill-color: #AAA;\n",
       "      --disabled-bg-color: #DDD;\n",
       "  }\n",
       "\n",
       "  [theme=dark] .colab-df-quickchart {\n",
       "      --bg-color: #3B4455;\n",
       "      --fill-color: #D2E3FC;\n",
       "      --hover-bg-color: #434B5C;\n",
       "      --hover-fill-color: #FFFFFF;\n",
       "      --disabled-bg-color: #3B4455;\n",
       "      --disabled-fill-color: #666;\n",
       "  }\n",
       "\n",
       "  .colab-df-quickchart {\n",
       "    background-color: var(--bg-color);\n",
       "    border: none;\n",
       "    border-radius: 50%;\n",
       "    cursor: pointer;\n",
       "    display: none;\n",
       "    fill: var(--fill-color);\n",
       "    height: 32px;\n",
       "    padding: 0;\n",
       "    width: 32px;\n",
       "  }\n",
       "\n",
       "  .colab-df-quickchart:hover {\n",
       "    background-color: var(--hover-bg-color);\n",
       "    box-shadow: 0 1px 2px rgba(60, 64, 67, 0.3), 0 1px 3px 1px rgba(60, 64, 67, 0.15);\n",
       "    fill: var(--button-hover-fill-color);\n",
       "  }\n",
       "\n",
       "  .colab-df-quickchart-complete:disabled,\n",
       "  .colab-df-quickchart-complete:disabled:hover {\n",
       "    background-color: var(--disabled-bg-color);\n",
       "    fill: var(--disabled-fill-color);\n",
       "    box-shadow: none;\n",
       "  }\n",
       "\n",
       "  .colab-df-spinner {\n",
       "    border: 2px solid var(--fill-color);\n",
       "    border-color: transparent;\n",
       "    border-bottom-color: var(--fill-color);\n",
       "    animation:\n",
       "      spin 1s steps(1) infinite;\n",
       "  }\n",
       "\n",
       "  @keyframes spin {\n",
       "    0% {\n",
       "      border-color: transparent;\n",
       "      border-bottom-color: var(--fill-color);\n",
       "      border-left-color: var(--fill-color);\n",
       "    }\n",
       "    20% {\n",
       "      border-color: transparent;\n",
       "      border-left-color: var(--fill-color);\n",
       "      border-top-color: var(--fill-color);\n",
       "    }\n",
       "    30% {\n",
       "      border-color: transparent;\n",
       "      border-left-color: var(--fill-color);\n",
       "      border-top-color: var(--fill-color);\n",
       "      border-right-color: var(--fill-color);\n",
       "    }\n",
       "    40% {\n",
       "      border-color: transparent;\n",
       "      border-right-color: var(--fill-color);\n",
       "      border-top-color: var(--fill-color);\n",
       "    }\n",
       "    60% {\n",
       "      border-color: transparent;\n",
       "      border-right-color: var(--fill-color);\n",
       "    }\n",
       "    80% {\n",
       "      border-color: transparent;\n",
       "      border-right-color: var(--fill-color);\n",
       "      border-bottom-color: var(--fill-color);\n",
       "    }\n",
       "    90% {\n",
       "      border-color: transparent;\n",
       "      border-bottom-color: var(--fill-color);\n",
       "    }\n",
       "  }\n",
       "</style>\n",
       "\n",
       "  <script>\n",
       "    async function quickchart(key) {\n",
       "      const quickchartButtonEl =\n",
       "        document.querySelector('#' + key + ' button');\n",
       "      quickchartButtonEl.disabled = true;  // To prevent multiple clicks.\n",
       "      quickchartButtonEl.classList.add('colab-df-spinner');\n",
       "      try {\n",
       "        const charts = await google.colab.kernel.invokeFunction(\n",
       "            'suggestCharts', [key], {});\n",
       "      } catch (error) {\n",
       "        console.error('Error during call to suggestCharts:', error);\n",
       "      }\n",
       "      quickchartButtonEl.classList.remove('colab-df-spinner');\n",
       "      quickchartButtonEl.classList.add('colab-df-quickchart-complete');\n",
       "    }\n",
       "    (() => {\n",
       "      let quickchartButtonEl =\n",
       "        document.querySelector('#df-935c0db8-9b9d-4a0c-9fd9-67ba2ec7c0ad button');\n",
       "      quickchartButtonEl.style.display =\n",
       "        google.colab.kernel.accessAllowed ? 'block' : 'none';\n",
       "    })();\n",
       "  </script>\n",
       "</div>\n",
       "    </div>\n",
       "  </div>\n"
      ],
      "text/plain": [
       "           id        date     price  bedrooms  bathrooms  sqft_living  \\\n",
       "0  7129300520  10/13/2014  221900.0         3       1.00         1180   \n",
       "1  6414100192   12/9/2014  538000.0         3       2.25         2570   \n",
       "2  5631500400   2/25/2015  180000.0         2       1.00          770   \n",
       "3  2487200875   12/9/2014  604000.0         4       3.00         1960   \n",
       "4  1954400510   2/18/2015  510000.0         3       2.00         1680   \n",
       "\n",
       "   sqft_lot  floors waterfront  view  ...          grade sqft_above  \\\n",
       "0      5650     1.0        NaN  NONE  ...      7 Average       1180   \n",
       "1      7242     2.0         NO  NONE  ...      7 Average       2170   \n",
       "2     10000     1.0         NO  NONE  ...  6 Low Average        770   \n",
       "3      5000     1.0         NO  NONE  ...      7 Average       1050   \n",
       "4      8080     1.0         NO  NONE  ...         8 Good       1680   \n",
       "\n",
       "   sqft_basement yr_built  yr_renovated  zipcode      lat     long  \\\n",
       "0            0.0     1955           0.0    98178  47.5112 -122.257   \n",
       "1          400.0     1951        1991.0    98125  47.7210 -122.319   \n",
       "2            0.0     1933           NaN    98028  47.7379 -122.233   \n",
       "3          910.0     1965           0.0    98136  47.5208 -122.393   \n",
       "4            0.0     1987           0.0    98074  47.6168 -122.045   \n",
       "\n",
       "   sqft_living15  sqft_lot15  \n",
       "0           1340        5650  \n",
       "1           1690        7639  \n",
       "2           2720        8062  \n",
       "3           1360        5000  \n",
       "4           1800        7503  \n",
       "\n",
       "[5 rows x 21 columns]"
      ]
     },
     "execution_count": 124,
     "metadata": {},
     "output_type": "execute_result"
    }
   ],
   "source": [
    "df = pd.read_csv('/content/kc_house_data.csv')\n",
    "df.head()"
   ]
  },
  {
   "cell_type": "code",
   "execution_count": null,
   "id": "71fbe970",
   "metadata": {
    "colab": {
     "base_uri": "https://localhost:8080/"
    },
    "id": "71fbe970",
    "outputId": "fa61f86e-a9bf-4cbb-b52c-b11a003b17a4"
   },
   "outputs": [
    {
     "name": "stdout",
     "output_type": "stream",
     "text": [
      "<class 'pandas.core.frame.DataFrame'>\n",
      "RangeIndex: 21597 entries, 0 to 21596\n",
      "Data columns (total 21 columns):\n",
      " #   Column         Non-Null Count  Dtype  \n",
      "---  ------         --------------  -----  \n",
      " 0   id             21597 non-null  int64  \n",
      " 1   date           21597 non-null  object \n",
      " 2   price          21597 non-null  float64\n",
      " 3   bedrooms       21597 non-null  int64  \n",
      " 4   bathrooms      21597 non-null  float64\n",
      " 5   sqft_living    21597 non-null  int64  \n",
      " 6   sqft_lot       21597 non-null  int64  \n",
      " 7   floors         21597 non-null  float64\n",
      " 8   waterfront     19221 non-null  object \n",
      " 9   view           21534 non-null  object \n",
      " 10  condition      21597 non-null  object \n",
      " 11  grade          21597 non-null  object \n",
      " 12  sqft_above     21597 non-null  int64  \n",
      " 13  sqft_basement  21597 non-null  object \n",
      " 14  yr_built       21597 non-null  int64  \n",
      " 15  yr_renovated   17755 non-null  float64\n",
      " 16  zipcode        21597 non-null  int64  \n",
      " 17  lat            21597 non-null  float64\n",
      " 18  long           21597 non-null  float64\n",
      " 19  sqft_living15  21597 non-null  int64  \n",
      " 20  sqft_lot15     21597 non-null  int64  \n",
      "dtypes: float64(6), int64(9), object(6)\n",
      "memory usage: 3.5+ MB\n"
     ]
    }
   ],
   "source": [
    "df.info()"
   ]
  },
  {
   "cell_type": "markdown",
   "id": "0d99af59",
   "metadata": {
    "id": "0d99af59"
   },
   "source": [
    "## Feature Engineering"
   ]
  },
  {
   "cell_type": "code",
   "execution_count": null,
   "id": "604cb23f",
   "metadata": {
    "id": "604cb23f"
   },
   "outputs": [],
   "source": [
    "df.hist(figsize=(20,20));"
   ]
  },
  {
   "cell_type": "code",
   "execution_count": null,
   "id": "91631be4",
   "metadata": {
    "id": "91631be4"
   },
   "outputs": [],
   "source": [
    "for column in df.columns:\n",
    "    proportion_of_nas = (sum(df[column].isnull())/len(df[column])) * 100\n",
    "    print(column, proportion_of_nas)"
   ]
  },
  {
   "cell_type": "code",
   "execution_count": null,
   "id": "87de9801",
   "metadata": {
    "id": "87de9801"
   },
   "outputs": [],
   "source": [
    "df.isna().sum()"
   ]
  },
  {
   "cell_type": "code",
   "execution_count": null,
   "id": "a53597ea",
   "metadata": {
    "id": "a53597ea"
   },
   "outputs": [],
   "source": [
    "#1. Check for counts of unique values in waterfront\n",
    "df['waterfront'].value_counts()"
   ]
  },
  {
   "cell_type": "code",
   "execution_count": null,
   "id": "00064f87",
   "metadata": {
    "id": "00064f87"
   },
   "outputs": [],
   "source": [
    "#2. Fill in the missing values with No and convert to binary\n",
    "\n",
    "df['waterfront'] = df['waterfront'].fillna('NO')\n",
    "df['waterfront'] = df['waterfront'].map({'YES': 1, 'NO': 0})\n",
    "\n",
    "#3. Check if code was responsive\n",
    "\n",
    "df['waterfront'].value_counts()"
   ]
  },
  {
   "cell_type": "code",
   "execution_count": null,
   "id": "4e5301be",
   "metadata": {
    "id": "4e5301be"
   },
   "outputs": [],
   "source": [
    "#4. Check for counts of unique values in view\n",
    "df['view'].value_counts()"
   ]
  },
  {
   "cell_type": "code",
   "execution_count": null,
   "id": "c6aec0ea",
   "metadata": {
    "id": "c6aec0ea"
   },
   "outputs": [],
   "source": [
    "#5. Fill the missing values with None and check if code was responsive\n",
    "\n",
    "df['view'].fillna(\"NONE\", inplace=True)\n",
    "\n",
    "df['view'].value_counts()"
   ]
  },
  {
   "cell_type": "code",
   "execution_count": null,
   "id": "08b34076",
   "metadata": {
    "id": "08b34076"
   },
   "outputs": [],
   "source": [
    "df['yr_renovated'].value_counts()"
   ]
  },
  {
   "cell_type": "code",
   "execution_count": null,
   "id": "b3287bcf",
   "metadata": {
    "id": "b3287bcf"
   },
   "outputs": [],
   "source": [
    "df['yr_renovated'].fillna(0, inplace=True)"
   ]
  },
  {
   "cell_type": "code",
   "execution_count": null,
   "id": "fa9553b2",
   "metadata": {
    "id": "fa9553b2"
   },
   "outputs": [],
   "source": [
    "df['id'].value_counts()"
   ]
  },
  {
   "cell_type": "code",
   "execution_count": null,
   "id": "d845e329",
   "metadata": {
    "id": "d845e329"
   },
   "outputs": [],
   "source": [
    "#3. convert condition and grade into representative numbers\n",
    "df['view'] = df['view'].map({'NONE': 1,'FAIR': 2,'AVERAGE': 3,'GOOD': 4,'EXCELLENT': 5}).astype(float)\n",
    "df['condition'] = df['condition'].map({'Poor': 1,'Fair': 2,'Average': 3,'Good': 4,'Very Good': 5}).astype(float)\n",
    "df['grade'] = df['grade'].map({'3 Poor': 1,'4 Low': 2,'5 Fair': 3,'6 Low Average': 4,'7 Average': 5,'8 Good': 6,'9 Better': 7,'10 Very Good': 8,'11 Excellent': 9,'12 Luxury': 10,'13 Mansion': 11}).astype(float)\n",
    "df['sqft_basement'] = df['sqft_basement'].replace('?', 0).astype(float)"
   ]
  },
  {
   "cell_type": "code",
   "execution_count": null,
   "id": "c683210b",
   "metadata": {
    "id": "c683210b",
    "scrolled": true
   },
   "outputs": [],
   "source": [
    "df.head()"
   ]
  },
  {
   "cell_type": "code",
   "execution_count": null,
   "id": "4da5d48d",
   "metadata": {
    "id": "4da5d48d"
   },
   "outputs": [],
   "source": [
    "# create a new column 'Sale_Number' based on the count of values in 'id' column\n",
    "Sales_in_df = df['id'].value_counts()\n",
    "df['Sale_Number'] = df['id'].map(Sales_in_df)"
   ]
  },
  {
   "cell_type": "code",
   "execution_count": null,
   "id": "022cecca",
   "metadata": {
    "id": "022cecca"
   },
   "outputs": [],
   "source": [
    "df.shape"
   ]
  },
  {
   "cell_type": "code",
   "execution_count": null,
   "id": "3dad3663",
   "metadata": {
    "id": "3dad3663"
   },
   "outputs": [],
   "source": [
    "df.isna().sum()"
   ]
  },
  {
   "cell_type": "code",
   "execution_count": null,
   "id": "3acc234d",
   "metadata": {
    "id": "3acc234d"
   },
   "outputs": [],
   "source": [
    "df.head()"
   ]
  },
  {
   "cell_type": "code",
   "execution_count": null,
   "id": "13784785",
   "metadata": {
    "id": "13784785"
   },
   "outputs": [],
   "source": [
    "df.duplicated().value_counts()"
   ]
  },
  {
   "cell_type": "code",
   "execution_count": null,
   "id": "addaf198",
   "metadata": {
    "id": "addaf198"
   },
   "outputs": [],
   "source": [
    "#Create a column for percentage space used\n",
    "\n",
    "df['Space_use'] = df['sqft_living'] / df['sqft_lot']\n",
    "\n",
    "df['Space_use'] = df['Space_use'].round(2)"
   ]
  },
  {
   "cell_type": "code",
   "execution_count": null,
   "id": "f1b71d77",
   "metadata": {
    "id": "f1b71d77"
   },
   "outputs": [],
   "source": [
    "#Fix date column to datetime\n",
    "df['date'] = pd.to_datetime(df['date'])\n",
    "\n",
    "#Create a Season column and populate it as Spring, Summer, Fall, Winter\n",
    "def get_season(month):\n",
    "    if 3 <= month <= 5:\n",
    "        return 'Spring'\n",
    "    elif 6 <= month <= 8:\n",
    "        return 'Summer'\n",
    "    elif 9 <= month <= 11:\n",
    "        return 'Fall'\n",
    "    else:\n",
    "        return 'Winter'\n",
    "df['season'] = df['date'].dt.month.apply(get_season)"
   ]
  },
  {
   "cell_type": "code",
   "execution_count": null,
   "id": "afc557aa",
   "metadata": {
    "id": "afc557aa"
   },
   "outputs": [],
   "source": [
    "df.info()"
   ]
  },
  {
   "cell_type": "code",
   "execution_count": null,
   "id": "c6c0d2c8",
   "metadata": {
    "id": "c6c0d2c8"
   },
   "outputs": [],
   "source": [
    "df.head()"
   ]
  },
  {
   "cell_type": "code",
   "execution_count": null,
   "id": "2c0efa89",
   "metadata": {
    "id": "2c0efa89"
   },
   "outputs": [],
   "source": [
    "# Create individual boxplots for selected columns\n",
    "columns_to_plot = ['price', 'bedrooms', 'bathrooms', 'sqft_living', 'sqft_lot', 'floors', 'waterfront', 'view', 'condition', 'grade', 'sqft_above', 'sqft_basement', 'zipcode', 'sqft_living15', 'sqft_lot15', 'Space_use']\n",
    "\n",
    "# Set the number of boxplots per row\n",
    "boxplots_per_row = 3\n",
    "\n",
    "# Calculate the number of rows needed\n",
    "num_rows = -(-len(columns_to_plot) // boxplots_per_row)  # Ceiling division\n",
    "\n",
    "# Create a subplot grid\n",
    "fig, axes = plt.subplots(nrows=num_rows, ncols=boxplots_per_row, figsize=(15, 25))\n",
    "\n",
    "# Flatten the axes array for easier iteration\n",
    "axes = axes.flatten()\n",
    "\n",
    "# Plot each boxplot\n",
    "for i, column in enumerate(columns_to_plot):\n",
    "    ax = axes[i]\n",
    "    df[column].plot(kind='box', ax=ax)\n",
    "    ax.set_title(column)\n",
    "\n",
    "# Hide any remaining empty subplots\n",
    "for i in range(len(columns_to_plot), len(axes)):\n",
    "    fig.delaxes(axes[i])\n",
    "\n",
    "# Adjust layout and show the plot\n",
    "plt.tight_layout()\n",
    "plt.show()"
   ]
  },
  {
   "cell_type": "code",
   "execution_count": null,
   "id": "CvVMv1pBZHZA",
   "metadata": {
    "id": "CvVMv1pBZHZA"
   },
   "outputs": [],
   "source": [
    "# Removing outliers observed in the box plots above\n",
    "df = df.drop(df[df[\"bedrooms\"] >= 10].index)\n",
    "df = df.drop(df[df[\"sqft_living\"] > 10000].index)\n",
    "df = df.drop(df[df[\"price\"] >= 1100000].index)\n",
    "\n"
   ]
  },
  {
   "cell_type": "code",
   "execution_count": null,
   "id": "9jvSsL3ja7Da",
   "metadata": {
    "id": "9jvSsL3ja7Da"
   },
   "outputs": [],
   "source": [
    "df[df['bathrooms']==0.5]"
   ]
  },
  {
   "cell_type": "code",
   "execution_count": null,
   "id": "9faa6386",
   "metadata": {
    "id": "9faa6386"
   },
   "outputs": [],
   "source": [
    "# Count the number of sales for each house and merge with the original DataFrame\n",
    "sale_counts = df.groupby('id').size().reset_index(name='NumSales')\n",
    "df = pd.merge(df, sale_counts, on='id', how='left')\n",
    "\n",
    "# Identify houses sold more than once\n",
    "houses_sold_more_than_once = df[df['NumSales'] > 1].drop_duplicates('id')\n",
    "\n",
    "# Generate Markdown report\n",
    "markdown_report = f\"# King County House Sales Report\\n\\n\"\n",
    "markdown_report += \"## Houses Sold More Than Once\\n\\n\"\n",
    "\n",
    "for house_id, num_sales, total_earnings in houses_sold_more_than_once[['id', 'NumSales', 'price']].to_records(index=False):\n",
    "    markdown_report += f\"House Number {house_id} was sold {num_sales} times in the period under consideration, priced at {total_earnings}.\\n\"\n",
    "\n",
    "# Export the Markdown report\n",
    "with open('king_county_house_sales_report.md', 'w') as file:\n",
    "    file.write(markdown_report)"
   ]
  },
  {
   "cell_type": "markdown",
   "id": "e69b134f",
   "metadata": {
    "id": "e69b134f"
   },
   "source": [
    "# King County House Sales Report\n",
    "\n",
    "## Houses Sold More Than Once\n",
    "\n",
    "Find the full report under 'king_county_house_sales_report.md'\n",
    "\n",
    "House Number 6021501535 was sold 2 times in the period under consideration, priced at 430000.0.\\\n",
    "House Number 4139480200 was sold 2 times in the period under consideration, priced at 1380000.0.\\\n",
    "House Number 7520000520 was sold 2 times in the period under consideration, priced at 232000.0.\\\n",
    "House Number 3969300030 was sold 2 times in the period under consideration, priced at 165000.0.\\\n",
    "House Number 2231500030 was sold 2 times in the period under consideration, priced at 315000.0."
   ]
  },
  {
   "cell_type": "code",
   "execution_count": null,
   "id": "3a3cf956",
   "metadata": {
    "id": "3a3cf956"
   },
   "outputs": [],
   "source": [
    "#Rename the 'id' column to 'house_number' and create a new index column named 'id'\n",
    "df = df.rename(columns={'id': 'house_number'}).reset_index(drop=True)"
   ]
  },
  {
   "cell_type": "code",
   "execution_count": null,
   "id": "b9f8339d",
   "metadata": {
    "id": "b9f8339d"
   },
   "outputs": [],
   "source": [
    "#Getting a report of number of renovations per year.\n",
    "\n",
    "\n",
    "# Group by 'yr_renovated' and count the number of unique houses renovated more than once\n",
    "renovation_counts = df[df['yr_renovated'] > 0].groupby('yr_renovated')['house_number'].nunique().reset_index(name='NumRenovations')\n",
    "\n",
    "# Sort the renovation report from most renovations to least\n",
    "renovation_counts = renovation_counts.sort_values(by='NumRenovations', ascending=False)\n",
    "\n",
    "# Calculate the total number of renovations and the proportion to the number of unique house numbers\n",
    "total_renovations = renovation_counts['NumRenovations'].sum()\n",
    "num_unique_houses = df['house_number'].nunique()\n",
    "proportion_to_unique_houses = total_renovations / num_unique_houses\n",
    "\n",
    "\n",
    "# Print the total number of renovations and the proportion to the number of unique house numbers\n",
    "print(f\"\\nTotal number of renovations: {total_renovations}\")\n",
    "print(f\"Proportion to the number of unique house numbers: {proportion_to_unique_houses:.2%}\")\n",
    "\n",
    "# Print messages for the first 3 and last 3 years of renovations\n",
    "for index, row in renovation_counts.head(3).iterrows():\n",
    "    message = f\"In {row['yr_renovated']}, there were {row['NumRenovations']} renovations.\"\n",
    "    print(message)\n",
    "\n",
    "# Print messages for the last 3 years of renovations\n",
    "for index, row in renovation_counts.tail(3).iterrows():\n",
    "    message = f\"In {row['yr_renovated']}, there were {row['NumRenovations']} renovations.\"\n",
    "    print(message)\n",
    "\n",
    "# Generate Markdown report\n",
    "markdown_report = f\"# Renovation Report\\n\\n\"\n",
    "markdown_report += \"## Houses Renovated More Than Once\\n\\n\"\n",
    "markdown_report += renovation_counts.to_markdown(index=False)\n",
    "\n",
    "# Save the Markdown report to a file\n",
    "with open('renovation_report.md', 'w') as file:\n",
    "    file.write(markdown_report)"
   ]
  },
  {
   "cell_type": "code",
   "execution_count": null,
   "id": "04da01c3",
   "metadata": {
    "id": "04da01c3"
   },
   "outputs": [],
   "source": [
    "df.describe()"
   ]
  },
  {
   "cell_type": "code",
   "execution_count": null,
   "id": "2e40be4b",
   "metadata": {
    "id": "2e40be4b"
   },
   "outputs": [],
   "source": [
    "#Export the dataframe\n",
    "\n",
    "# Specify the path where you want to save the CSV file\n",
    "csv_file_path = 'export.csv'\n",
    "\n",
    "# Export the entire DataFrame to a CSV file\n",
    "df.to_csv(csv_file_path, index=False)\n",
    "\n",
    "print(f'DataFrame exported to {csv_file_path}')"
   ]
  },
  {
   "cell_type": "code",
   "execution_count": null,
   "id": "7e193728",
   "metadata": {
    "id": "7e193728"
   },
   "outputs": [],
   "source": [
    "# Rename the original DataFrame to Original_df\n",
    "Original_df = df.copy()\n",
    "\n",
    "# Count the number of sales for each house\n",
    "sale_counts = df.groupby('house_number').size().reset_index(name='NumSales')\n",
    "\n",
    "# Add a new column indicating the number of sales for each house\n",
    "df['NumSales'] = df.groupby('house_number')['house_number'].transform('count')\n",
    "\n",
    "# Identify houses sold more than once\n",
    "houses_sold_more_than_once = df[df['NumSales'] > 1]\n",
    "\n",
    "# Keep the most recent sale for houses sold more than once\n",
    "houses_sold_more_than_once = houses_sold_more_than_once.sort_values(by=['house_number', 'date'], ascending=[True, False])\n",
    "houses_sold_more_than_once.drop_duplicates('house_number', keep='first', inplace=True)\n",
    "\n",
    "\n",
    "# Drop houses sold more than once, keeping the most recent sale\n",
    "df = pd.concat([df, houses_sold_more_than_once]).drop_duplicates(subset='house_number', keep='last')\n",
    "\n",
    "# Drop the 'NumSales' column as it is no longer needed\n",
    "df.drop(columns='NumSales', inplace=True)\n",
    "\n",
    "# Drop the 'yr_renovated' column\n",
    "df.drop(columns='yr_renovated', inplace=True)\n"
   ]
  },
  {
   "cell_type": "markdown",
   "id": "n5tdMR0OFOsj",
   "metadata": {
    "id": "n5tdMR0OFOsj"
   },
   "source": []
  },
  {
   "cell_type": "code",
   "execution_count": null,
   "id": "08c18ac4",
   "metadata": {
    "id": "08c18ac4"
   },
   "outputs": [],
   "source": [
    "df.head()"
   ]
  },
  {
   "cell_type": "code",
   "execution_count": null,
   "id": "0171fd84",
   "metadata": {
    "id": "0171fd84"
   },
   "outputs": [],
   "source": [
    "#Export the dataframe\n",
    "\n",
    "# Specify the path where you want to save the CSV file\n",
    "csv_file_path = 'new_export.csv'\n",
    "\n",
    "# Export the entire DataFrame to a CSV file\n",
    "df.to_csv(csv_file_path, index=False)\n",
    "\n",
    "print(f'DataFrame exported to {csv_file_path}')"
   ]
  },
  {
   "cell_type": "code",
   "execution_count": null,
   "id": "0zwD1wy1xL0S",
   "metadata": {
    "id": "0zwD1wy1xL0S"
   },
   "outputs": [],
   "source": []
  },
  {
   "cell_type": "markdown",
   "id": "XsYy41-QxNAT",
   "metadata": {
    "id": "XsYy41-QxNAT"
   },
   "source": [
    "# Collinearity"
   ]
  },
  {
   "cell_type": "code",
   "execution_count": null,
   "id": "hGjV4jjNxRbo",
   "metadata": {
    "id": "hGjV4jjNxRbo"
   },
   "outputs": [],
   "source": [
    "df.corr(numeric_only=True)"
   ]
  },
  {
   "cell_type": "markdown",
   "id": "NTQhBCkAyXwL",
   "metadata": {
    "id": "NTQhBCkAyXwL"
   },
   "source": [
    "Investigating potential multicollinearity"
   ]
  },
  {
   "cell_type": "code",
   "execution_count": null,
   "id": "f8-xb1KZx_lr",
   "metadata": {
    "id": "f8-xb1KZx_lr"
   },
   "outputs": [],
   "source": [
    "correlation_matrix = df.corr(numeric_only=True).abs()\n",
    "stacked_correlations = correlation_matrix.stack().reset_index().sort_values(0, ascending=False)\n",
    "stacked_correlations['column_pairs'] = list(zip(stacked_correlations['level_0'], stacked_correlations['level_1']))\n",
    "pairs_indexed = stacked_correlations.set_index(['column_pairs'])\n",
    "pairs_indexed.drop(columns=['level_0', 'level_1'], inplace=True)\n",
    "pairs_indexed.columns = ['correlation_coefficient']\n",
    "unique_pairs = pairs_indexed.drop_duplicates()\n",
    "high_correlation_pairs = unique_pairs[\n",
    "    (unique_pairs['correlation_coefficient'] > 0.7) & (unique_pairs['correlation_coefficient'] < 1)\n",
    "]\n",
    "\n",
    "# Display the result\n",
    "print(high_correlation_pairs)\n"
   ]
  },
  {
   "cell_type": "markdown",
   "id": "5UwF50ZM0AWL",
   "metadata": {
    "id": "5UwF50ZM0AWL"
   },
   "source": [
    "\n",
    "In this analysis, we observe significant correlations among various pairs of variables. To address potential multicollinearity issues in our model, we will consider the removal of variables that exhibit high correlation with each other."
   ]
  },
  {
   "cell_type": "code",
   "execution_count": null,
   "id": "rBuIKMb7xhU2",
   "metadata": {
    "id": "rBuIKMb7xhU2"
   },
   "outputs": [],
   "source": [
    "mask = np.triu(np.ones_like(correlation_matrix, dtype=bool))\n",
    "\n",
    "plt.figure(figsize=(20, 10))\n",
    "ax = sns.heatmap(correlation_matrix, annot=True, mask=mask)\n",
    "plt.show()"
   ]
  }
 ],
 "metadata": {
  "colab": {
   "provenance": []
  },
  "kernelspec": {
   "display_name": "Python (test2)",
   "language": "python",
   "name": "test2"
  },
  "language_info": {
   "codemirror_mode": {
    "name": "ipython",
    "version": 3
   },
   "file_extension": ".py",
   "mimetype": "text/x-python",
   "name": "python",
   "nbconvert_exporter": "python",
   "pygments_lexer": "ipython3",
   "version": "3.10.9"
  }
 },
 "nbformat": 4,
 "nbformat_minor": 5
}
